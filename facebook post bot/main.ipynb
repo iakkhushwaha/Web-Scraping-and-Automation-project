{
 "cells": [
  {
   "cell_type": "code",
   "execution_count": 1,
   "id": "6734eca8-90de-49b8-97e5-117934b60e10",
   "metadata": {},
   "outputs": [],
   "source": [
    "import undetected_chromedriver as uc\n",
    "from selenium.webdriver.common.by import By\n",
    "from selenium.webdriver.chrome.options import Options\n",
    "from selenium.webdriver.support import expected_conditions as EC\n",
    "from selenium.webdriver.support.ui import WebDriverWait"
   ]
  },
  {
   "cell_type": "code",
   "execution_count": 2,
   "id": "dd7be7f0-8277-41c8-822a-ef5335217f60",
   "metadata": {},
   "outputs": [],
   "source": [
    "EMAIL = \"TEST@gmail.com\"\n",
    "PASSWORD = \"PASSWORD\""
   ]
  },
  {
   "cell_type": "code",
   "execution_count": 37,
   "id": "6eb285ce-905b-4bce-b025-0d5433986612",
   "metadata": {},
   "outputs": [],
   "source": [
    "posts = []"
   ]
  },
  {
   "cell_type": "code",
   "execution_count": 4,
   "id": "c712ae60-f364-4775-bb7e-839cdbd72ae4",
   "metadata": {},
   "outputs": [],
   "source": [
    "chrome_options = Options()\n",
    "chrome_options.add_argument('--disable-notifications')\n",
    "# options.add_argument('--disable-extensions')\n",
    "driver = uc.Chrome(options=chrome_options)\n",
    "driver.get(\"https://www.facebook.com/login.php/\")"
   ]
  },
  {
   "cell_type": "code",
   "execution_count": 5,
   "id": "0b5a59be-8384-4175-a502-eb998072d836",
   "metadata": {},
   "outputs": [],
   "source": [
    "email = driver.find_element(By.NAME , \"email\")\n",
    "password = driver.find_element(By.NAME , \"pass\")\n",
    "login = driver.find_element(By.NAME , \"login\")"
   ]
  },
  {
   "cell_type": "code",
   "execution_count": 6,
   "id": "5d903fd6-42f3-4e27-85df-710eac1e42d1",
   "metadata": {},
   "outputs": [],
   "source": [
    "email.send_keys(EMAIL)\n",
    "password.send_keys(PASSWORD)\n",
    "login.click()"
   ]
  },
  {
   "cell_type": "code",
   "execution_count": null,
   "id": "779f940b-65f0-4fa3-8102-fb840d80ae88",
   "metadata": {},
   "outputs": [],
   "source": [
    "original_window = driver.current_window_handle\n",
    "for index , post in enumerate(posts):\n",
    "    TEXT = post\n",
    "    File = f\"/home/ankit/Pictures/tweets/Shradh/facebook/{index+1}.jpg\"\n",
    "    WebDriverWait(driver, 10).until(EC.presence_of_element_located((By.XPATH , '/html/body/div[1]/div/div/div[1]/div/div[3]/div/div/div[1]/div[1]/div/div[2]/div/div/div/div[2]/div/div[2]/div/div/div/div[2]/div[2]/div[1]'))).click()\n",
    "    # photo_videos = driver.find_element(By.XPATH , '/html/body/div[1]/div/div/div[1]/div/div[3]/div/div/div[1]/div[1]/div/div[2]/div/div/div/div[2]/div/div[2]/div/div/div/div[2]/div[2]/div[1]')\n",
    "    # photo_videos.click()\n",
    "    driver.implicitly_wait(2)\n",
    "    # upload_file = driver.find_element(By.XPATH ,'//*[@id=\"mount_0_0_+3\"]/div/div/div[1]/div/div[4]/div/div/div[1]/div/div[2]/div/div/div/form/div/div[1]/div/div/div/div[2]/div[1]/div[2]/div/div[1]/div/div[1]/input')\n",
    "    driver.switch_to.window(original_window)\n",
    "    upload_file = driver.find_element(By.CSS_SELECTOR ,'input.x1s85apg:nth-child(1)')\n",
    "    text = driver.find_element(By.CSS_SELECTOR , 'div.xzsf02u.x1a2a7pz.x1n2onr6.x14wi4xw.x9f619.x1lliihq.x5yr21d.xh8yej3.notranslate > p')\n",
    "    text.send_keys(TEXT)\n",
    "    post = driver.find_element(By.XPATH ,'div.x1r8uery:nth-child(4) > div:nth-child(1) > div:nth-child(1) > div:nth-child(1) > div:nth-child(1)')\n",
    "    post.click()"
   ]
  },
  {
   "cell_type": "code",
   "execution_count": 39,
   "id": "45a3605c-d03c-41e8-9201-894597fe4c02",
   "metadata": {},
   "outputs": [],
   "source": [
    "photo_videos = driver.find_element(By.CSS_SELECTOR , 'div.xzsf02u.x1a2a7pz.x1n2onr6.x14wi4xw.x9f619.x1lliihq.x5yr21d.xh8yej3.notranslate > p')\n",
    "photo_videos.click()\n",
    "# div.xzsf02u.x1a2a7pz.x1n2onr6.x14wi4xw.x9f619.x1lliihq.x5yr21d.xh8yej3.notranslate > p"
   ]
  },
  {
   "cell_type": "code",
   "execution_count": 40,
   "id": "d97938e5-fc15-4cb7-b670-1c52b9410966",
   "metadata": {},
   "outputs": [],
   "source": [
    "# upload_file_ = driver.find_element(By.CSS_SELECTOR ,\".x1c4vz4f:nth-child(4) .x1l7q5kx\")\n",
    "# upload_file__ = driver.find_element(By.XPATH ,'/html/body/div[1]/div/div/div[1]/div/div[4]/div/div/div[1]/div/div[2]/div/div/div/form/div/div[1]/div/div/div/div[2]/div[1]/div[2]/div/div[1]/div/div[1]')\n",
    "original_window = driver.current_window_handle\n",
    "driver.switch_to.window(original_window)\n",
    "upload_file = driver.find_element(By.CSS_SELECTOR ,'input.x1s85apg:nth-child(1)')\n",
    "\n",
    "# upload_file__.send_keys()"
   ]
  },
  {
   "cell_type": "code",
   "execution_count": 41,
   "id": "eada0b89-d37f-4a2b-9028-77e55132742d",
   "metadata": {},
   "outputs": [],
   "source": [
    "# upload_file.send_keys(f\"/home/ankit/Pictures/tweets/Shradh/facebook/1.jpg\")\n",
    "# driver.\n",
    "driver.switch_to.window(original_window)\n"
   ]
  },
  {
   "cell_type": "code",
   "execution_count": 42,
   "id": "91d40e5f-a534-4c6a-b007-386a7499faaf",
   "metadata": {},
   "outputs": [],
   "source": [
    "text = driver.find_element(By.CSS_SELECTOR , 'div.xzsf02u.x1a2a7pz.x1n2onr6.x14wi4xw.x9f619.x1lliihq.x5yr21d.xh8yej3.notranslate > p')\n"
   ]
  },
  {
   "cell_type": "code",
   "execution_count": 43,
   "id": "d2119942-9b44-4c3f-992e-9f946a29409e",
   "metadata": {},
   "outputs": [],
   "source": [
    "text.send_keys(\"SAT SAHEB\")"
   ]
  },
  {
   "cell_type": "code",
   "execution_count": null,
   "id": "4f93f044-d473-4491-bce5-c603c2c44300",
   "metadata": {},
   "outputs": [],
   "source": [
    "post = driver.find_element(By.XPATH ,'//*[@id=\"mount_0_0_+3\"]/div/div/div[1]/div/div[4]/div/div/div[1]/div/div[2]/div/div/div/form/div/div[1]/div/div/div/div[3]/div[4]/div/div/div/div[1]/div/span')"
   ]
  },
  {
   "cell_type": "code",
   "execution_count": null,
   "id": "74e24d4b-5b06-4e9c-9fd0-ea60f6f0b416",
   "metadata": {},
   "outputs": [],
   "source": [
    "post.click()"
   ]
  }
 ],
 "metadata": {
  "kernelspec": {
   "display_name": "Python 3 (ipykernel)",
   "language": "python",
   "name": "python3"
  },
  "language_info": {
   "codemirror_mode": {
    "name": "ipython",
    "version": 3
   },
   "file_extension": ".py",
   "mimetype": "text/x-python",
   "name": "python",
   "nbconvert_exporter": "python",
   "pygments_lexer": "ipython3",
   "version": "3.12.3"
  }
 },
 "nbformat": 4,
 "nbformat_minor": 5
}
